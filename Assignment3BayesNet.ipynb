{
 "cells": [
  {
   "cell_type": "code",
   "execution_count": null,
   "metadata": {},
   "outputs": [],
   "source": [
    "from pandas import *\n",
    "df = pandas.read_csv(\"asia.csv\")"
   ]
  },
  {
   "cell_type": "code",
   "execution_count": null,
   "metadata": {},
   "outputs": [],
   "source": [
    "df.head()"
   ]
  },
  {
   "cell_type": "code",
   "execution_count": null,
   "metadata": {},
   "outputs": [],
   "source": [
    "#Prob(Asia)\n",
    "print(\"P(Asia): \", df.VisitToAsia.sum()/df.VisitToAsia.count())\n",
    "#Prob(Smoker)\n",
    "print(\"P(Smoker): \", df.Smoker.sum()/df.Smoker.count())\n",
    "#Prob(Tuberculosis|~Asia)\n",
    "dft = df[df.VisitToAsia==0]\n",
    "print(\"P(Tuberculosis|~Asia): \", dft.Tuberculosis.sum()/dft.Tuberculosis.count())\n",
    "#Prob(Tuberculosis|Asia)\n",
    "dft = df[df.VisitToAsia==1]\n",
    "print(\"P(Tuberculosis|Asia): \", dft.Tuberculosis.sum()/dft.Tuberculosis.count())\n",
    "#Prob(LungCancer|~Somker)\n",
    "dft = df[df.Smoker==0]\n",
    "print(\"P(LungCancer|~Somker): \", dft.LungCancer.sum()/dft.LungCancer.count())\n",
    "#Prob(LungCancer|Somker)\n",
    "dft = df[df.Smoker==1]\n",
    "print(\"P(LungCancer|Somker): \", dft.LungCancer.sum()/dft.LungCancer.count())\n",
    "#Prob(Bronchitis|~Somker)\n",
    "dft = df[df.Smoker==0]\n",
    "print(\"P(Bronchitis|~Somker): \", dft.Bronchitis.sum()/dft.Bronchitis.count())\n",
    "#Prob(Bronchitis|Somker)\n",
    "dft = df[df.Smoker==1]\n",
    "print(\"P(Bronchitis|Somker): \", dft.Bronchitis.sum()/dft.Bronchitis.count())\n",
    "#Prob(TuberculosisOrCancer|~Tuberculosis, ~LungCancer)\n",
    "dft = df[(df.Tuberculosis==0) & (df.LungCancer==0)]\n",
    "print(\"P(TuberculosisOrCancer|~Tuberculosis, ~LungCancer): \", dft.TuberculosisOrCancer.sum()/dft.TuberculosisOrCancer.count())\n",
    "#Prob(TuberculosisOrCancer|~Tuberculosis, LungCancer)\n",
    "dft = df[(df.Tuberculosis==0) & (df.LungCancer==1)]\n",
    "print(\"P(TuberculosisOrCancer|~Tuberculosis, LungCancer): \", dft.TuberculosisOrCancer.sum()/dft.TuberculosisOrCancer.count())\n",
    "#Prob(TuberculosisOrCancer|Tuberculosis, ~LungCancer)\n",
    "dft = df[(df.Tuberculosis==1) & (df.LungCancer==0)]\n",
    "print(\"P(TuberculosisOrCancer|Tuberculosis, ~LungCancer): \", dft.TuberculosisOrCancer.sum()/dft.TuberculosisOrCancer.count())\n",
    "#Prob(TuberculosisOrCancer|Tuberculosis, LungCancer)\n",
    "dft = df[(df.Tuberculosis==1) & (df.LungCancer==1)]\n",
    "print(\"P(TuberculosisOrCancer|Tuberculosis, LungCancer): \", dft.TuberculosisOrCancer.sum()/dft.TuberculosisOrCancer.count())\n",
    "#Prob(XRay|~TuberculosisOrCancer)\n",
    "dft = df[df.TuberculosisOrCancer==0]\n",
    "print(\"P(XRay|~TuberculosisOrCancer): \", dft.XRay.sum()/dft.XRay.count())  \n",
    "#Prob(XRay|TuberculosisOrCancer)\n",
    "dft = df[df.TuberculosisOrCancer==1]\n",
    "print(\"P(XRay|TuberculosisOrCancer): \", dft.XRay.sum()/dft.XRay.count()) \n",
    "#Prob(Dyspnea|~TuberculosisOrCancer,~Bronchitis)\n",
    "dft = df[(df.TuberculosisOrCancer==0) & (df.Bronchitis==0)]\n",
    "print(\"P(Dyspnea|~TuberculosisOrCancer,~Bronchitis): \", dft.Dyspnea.sum()/dft.Dyspnea.count())\n",
    "#Prob(Dyspnea|~TuberculosisOrCancer,Bronchitis)\n",
    "dft = df[(df.TuberculosisOrCancer==0) & (df.Bronchitis==1)]\n",
    "print(\"P(Dyspnea|~TuberculosisOrCancer,Bronchitis): \", dft.Dyspnea.sum()/dft.Dyspnea.count())\n",
    "#Prob(Dyspnea|TuberculosisOrCancer,~Bronchitis)\n",
    "dft = df[(df.TuberculosisOrCancer==1) & (df.Bronchitis==0)]\n",
    "print(\"P(Dyspnea|TuberculosisOrCancer,~Bronchitis): \", dft.Dyspnea.sum()/dft.Dyspnea.count())\n",
    "#Prob(Dyspnea|TuberculosisOrCancer,Bronchitis)\n",
    "dft = df[(df.TuberculosisOrCancer==1) & (df.Bronchitis==1)]\n",
    "print(\"P(Dyspnea|TuberculosisOrCancer,~Bronchitis): \", dft.Dyspnea.sum()/dft.Dyspnea.count())\n",
    "#P(T|A) + P(NOT T|A) = 1\n",
    "#P(T|A) + P(T|NOT A) not= 1"
   ]
  },
  {
   "cell_type": "code",
   "execution_count": null,
   "metadata": {},
   "outputs": [],
   "source": [
    "from pomegranate import *\n",
    "\n",
    "asiadist =  DiscreteDistribution({0: (1-0.0094), 1: 0.0094})\n",
    "smokedist = DiscreteDistribution({0: (1-0.4969), 1: 0.4969})\n",
    "tuberculosisdist = ConditionalProbabilityTable(\n",
    "    [[0,0,(1-0.009085402786190187)], [0,1,0.009085402786190187],\n",
    "     [1,0,(1-0.07446808510638298)],[1,1,0.07446808510638298]],[asiadist])\n",
    "lungcancerdist = ConditionalProbabilityTable(\n",
    "    [[0,0,(1-0.009143311468892865)], [0,1,0.009143311468892865],\n",
    "     [1,0,(1-0.10384383175689274)],[1,1,0.10384383175689274]], [smokedist])\n",
    "eitherdist = ConditionalProbabilityTable(\n",
    "    [[0,0,0,1.0],[0,0,1,0.0],\n",
    "     [0,1,0,0.0],[0,1,1,1.0],\n",
    "     [1,0,0,0.0],[1,0,1,1.0],\n",
    "     [1,1,0,0.0],[1,1,1,1.0]],[tuberculosisdist, lungcancerdist])\n",
    "bronchitisdist = ConditionalProbabilityTable(\n",
    "    [[0,0,(1-0.291393361160803)],[0,1,0.291393361160803],\n",
    "     [1,0,(1-0.6007244918494667)],[1,1,0.6007244918494667]],[smokedist])\n",
    "xRaydist = ConditionalProbabilityTable(\n",
    "    [[0,0,(1-0.050272756444539525)],[0,1,0.050272756444539525],\n",
    "     [1,0,(1-0.9723502304147466)],[1,1,0.9723502304147466]],[eitherdist]) \n",
    "dyspneadist = ConditionalProbabilityTable(\n",
    "    [[0,0,0,(1-0.09253617669459253)],[0,0,1,0.09253617669459253],\n",
    "     [0,1,0,(1-0.8005857944837687)],[0,1,1,0.8005857944837687],\n",
    "     [1,0,0,(1-0.67003367003367)],[1,0,1,0.67003367003367],\n",
    "     [1,1,0,(1-0.9011299435028248)],[1,1,1,0.9011299435028248]],[eitherdist, bronchitisdist]) \n"
   ]
  },
  {
   "cell_type": "code",
   "execution_count": null,
   "metadata": {},
   "outputs": [],
   "source": [
    "asia = Node(asiadist, name=\"Asia\")\n",
    "smoker = Node(smokedist, name=\"Smoker\")\n",
    "tuberculosis = Node(tuberculosisdist, name=\"Tuberculosis\")\n",
    "lungcancer = Node(lungcancerdist, name=\"LungCancer\")\n",
    "either = Node(eitherdist, name=\"TuberculosisOrCancer\")\n",
    "bronchitis = Node(bronchitisdist, name=\"Bronchitis\")\n",
    "xRay = Node(xRaydist, name=\"XRay\")\n",
    "dyspnea = Node(dyspneadist, name=\"Dyspnea\")"
   ]
  },
  {
   "cell_type": "code",
   "execution_count": null,
   "metadata": {},
   "outputs": [],
   "source": [
    "# -- your model here, for example -- \n",
    "model = BayesianNetwork(\"Cause of Dyspnea\")\n",
    "model.add_states(asia, smoker, tuberculosis, lungcancer, either, bronchitis, xRay, dyspnea)\n",
    "model.add_edge(asia, tuberculosis)\n",
    "model.add_edge(smoker, lungcancer)\n",
    "model.add_edge(smoker, bronchitis)              \n",
    "model.add_edge(tuberculosis, either)\n",
    "model.add_edge(lungcancer, either)\n",
    "model.add_edge(either, xRay)\n",
    "model.add_edge(either, dyspnea)\n",
    "model.add_edge(bronchitis, dyspnea)\n",
    "model.bake()   "
   ]
  },
  {
   "cell_type": "markdown",
   "metadata": {},
   "source": [
    "------------------------------------------------"
   ]
  },
  {
   "cell_type": "markdown",
   "metadata": {},
   "source": [
    "#### Questions"
   ]
  },
  {
   "cell_type": "markdown",
   "metadata": {},
   "source": [
    "1.  Before checking, write down your guess for the probability that an individual in the population at large would have a positive X-Ray (i.e. a result that suggests either lung cancer or tuberculosis)"
   ]
  },
  {
   "cell_type": "markdown",
   "metadata": {},
   "source": [
    "0.5"
   ]
  },
  {
   "cell_type": "markdown",
   "metadata": {},
   "source": [
    "2.  Now read that probability from the model you built.   "
   ]
  },
  {
   "cell_type": "code",
   "execution_count": null,
   "metadata": {},
   "outputs": [],
   "source": [
    "#  -- Probability of XRay here --\n",
    "model.predict_proba({})[6].parameters[0][1]"
   ]
  },
  {
   "cell_type": "markdown",
   "metadata": {},
   "source": [
    "3.  Is your empirical result significantly different from your guess?  If so, explain why.  If not, explain how you came to your original guess."
   ]
  },
  {
   "cell_type": "markdown",
   "metadata": {},
   "source": [
    "-- Your explanation here --\n",
    "\n",
    "Yes, it's totally different from what I guess.\n",
    "From my opinion, I think there is only one valuables which could affect the probability of XRay being positive, so I think 0.5 is the most possible value of probability. But in my mode, the valuables either(tuberculosisOrLungCancer) which affect the probability of XRay are affected by other two valuables, tuberculosis and lung cancer. These two valuables are affected by other two valuables visitToAsia and Smoker seperately. So that's why my guess is significantly different from the empirical result."
   ]
  },
  {
   "cell_type": "markdown",
   "metadata": {},
   "source": [
    "4.  How much does a trip to Asia affect the likelihood of an individual having Dyspnea?"
   ]
  },
  {
   "cell_type": "code",
   "execution_count": null,
   "metadata": {},
   "outputs": [],
   "source": [
    "# -- Your calculation here -- \n",
    "model.predict_proba({\"Asia\": 1})[7].parameters"
   ]
  },
  {
   "cell_type": "code",
   "execution_count": null,
   "metadata": {},
   "outputs": [],
   "source": [
    "model.predict_proba({\"Asia\": 1})[7].parameters[0][1]"
   ]
  },
  {
   "cell_type": "markdown",
   "metadata": {},
   "source": [
    "--Your answer here--\n",
    "\n",
    "If an individual has been to Asia, the likelihood of him having Dyspnea is 0.4538813486201607"
   ]
  },
  {
   "cell_type": "markdown",
   "metadata": {},
   "source": [
    "5.  Suppose you are a nonsmoker individual presenting with Dyspnea and you have never been to Asia.  In your panic you have a chest XRay done, which comes out negative.   What do you now know about the state of your health?"
   ]
  },
  {
   "cell_type": "code",
   "execution_count": null,
   "metadata": {},
   "outputs": [],
   "source": [
    "## -- Your calculation here --  \n",
    "model.predict_proba({\"Asia\": 0, \"Smoker\": 0, \"XRay\": 0, \"Dyspnea\": 1})"
   ]
  },
  {
   "cell_type": "code",
   "execution_count": null,
   "metadata": {},
   "outputs": [],
   "source": [
    "model.predict_proba({\"Asia\": 0, \"Smoker\": 0, \"XRay\": 0, \"Dyspnea\": 1})[2].parameters "
   ]
  },
  {
   "cell_type": "code",
   "execution_count": null,
   "metadata": {},
   "outputs": [],
   "source": [
    "model.predict_proba({\"Asia\": 0, \"Smoker\": 0, \"XRay\": 0, \"Dyspnea\": 1})[3].parameters"
   ]
  },
  {
   "cell_type": "code",
   "execution_count": null,
   "metadata": {},
   "outputs": [],
   "source": [
    "model.predict_proba({\"Asia\": 0, \"Smoker\": 0, \"XRay\": 0, \"Dyspnea\": 1})[4].parameters"
   ]
  },
  {
   "cell_type": "code",
   "execution_count": null,
   "metadata": {},
   "outputs": [],
   "source": [
    "model.predict_proba({\"Asia\": 0, \"Smoker\": 0, \"XRay\": 0, \"Dyspnea\": 1})[5].parameters"
   ]
  },
  {
   "cell_type": "code",
   "execution_count": null,
   "metadata": {},
   "outputs": [],
   "source": [
    "print(\"P(tuberculosis) = \", model.predict_proba({\"Asia\": 0, \"Smoker\": 0, \"XRay\": 0, \"Dyspnea\": 1})[2].parameters[0][1])\n",
    "print(\"P(lung cancer) = \", model.predict_proba({\"Asia\": 0, \"Smoker\": 0, \"XRay\": 0, \"Dyspnea\": 1})[3].parameters[0][1])\n",
    "print(\"P(tuberculosis or lung cancer) = \", \n",
    "      model.predict_proba({\"Asia\": 0, \"Smoker\": 0, \"XRay\": 0, \"Dyspnea\": 1})[4].parameters[0][1])\n",
    "print(\"P(bronchitis) = \", model.predict_proba({\"Asia\": 0, \"Smoker\": 0, \"XRay\": 0, \"Dyspnea\": 1})[5].parameters[0][1])"
   ]
  },
  {
   "cell_type": "markdown",
   "metadata": {},
   "source": [
    "-- Your answer here --\n",
    "\n",
    "Base on the information, I can know the state of your health as below:\n",
    "\n",
    "The probability of having tuberculosis is 0.0006638004335899342\n",
    "\n",
    "The probability of having lungcancer is 0.0006680313751993792\n",
    "\n",
    "The probability of having tuberculosis or lungcancer is 0.0013257624746723469\n",
    "\n",
    "The probability of having bronchitis is 0.7800288886555693"
   ]
  }
 ],
 "metadata": {
  "kernelspec": {
   "display_name": "Python 3",
   "language": "python",
   "name": "python3"
  },
  "language_info": {
   "codemirror_mode": {
    "name": "ipython",
    "version": 3
   },
   "file_extension": ".py",
   "mimetype": "text/x-python",
   "name": "python",
   "nbconvert_exporter": "python",
   "pygments_lexer": "ipython3",
   "version": "3.7.1"
  }
 },
 "nbformat": 4,
 "nbformat_minor": 2
}
